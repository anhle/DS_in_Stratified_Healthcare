{
  "nbformat": 4,
  "nbformat_minor": 0,
  "metadata": {
    "kernelspec": {
      "display_name": "Python 3",
      "language": "python",
      "name": "python3"
    },
    "language_info": {
      "codemirror_mode": {
        "name": "ipython",
        "version": 3
      },
      "file_extension": ".py",
      "mimetype": "text/x-python",
      "name": "python",
      "nbconvert_exporter": "python",
      "pygments_lexer": "ipython3",
      "version": "3.6.0"
    },
    "colab": {
      "name": "Coursera_DS_in_Stratified_Healthcare_WK2_Image_Analysis_Task.ipynb",
      "provenance": [],
      "include_colab_link": true
    }
  },
  "cells": [
    {
      "cell_type": "markdown",
      "metadata": {
        "id": "view-in-github",
        "colab_type": "text"
      },
      "source": [
        "<a href=\"https://colab.research.google.com/github/anhle/DS_in_Stratified_Healthcare/blob/master/Coursera_DS_in_Stratified_Healthcare_WK2_Image_Analysis_Task.ipynb\" target=\"_parent\"><img src=\"https://colab.research.google.com/assets/colab-badge.svg\" alt=\"Open In Colab\"/></a>"
      ]
    },
    {
      "cell_type": "markdown",
      "metadata": {
        "id": "pUMxg8wUFqAw",
        "colab_type": "text"
      },
      "source": [
        "# Image Analysis Task"
      ]
    },
    {
      "cell_type": "markdown",
      "metadata": {
        "id": "V5bMQiwCFqAy",
        "colab_type": "text"
      },
      "source": [
        "In this programming task, we'll get to work with some sample medical imaging data in the DICOM format and we'll learn how to visualise it and how to do some basic medical image analysis tasks, such as smoothing and segmentation. "
      ]
    },
    {
      "cell_type": "markdown",
      "metadata": {
        "id": "uUd3o2CoFqAy",
        "colab_type": "text"
      },
      "source": [
        "# Part 1: Importing packages needed"
      ]
    },
    {
      "cell_type": "markdown",
      "metadata": {
        "id": "Tgdry6zNFqAz",
        "colab_type": "text"
      },
      "source": [
        "* *Pydicom* is a Python package for working with DICOM files.  It allows us to read and easily manipulate DICOM files with the use of Python.\n",
        "\n",
        "* ITK (Insight Segmentation and Registration Toolkit) is a library that enables image processing, and it is widely used for the development of image segmentation and image registration programs. Here, we'll use *SimpleITK*, as it is a simplified interface to ITK.\n",
        "\n",
        "* The *OS* module in Python provides a way of using operating system dependent functionality, for instance for working with files and folders.  \n",
        "\n",
        "\n",
        "Now, lets import the packages. "
      ]
    },
    {
      "cell_type": "code",
      "metadata": {
        "id": "1ndRr58AGu_8",
        "colab_type": "code",
        "colab": {}
      },
      "source": [
        "pip install pydicom"
      ],
      "execution_count": 0,
      "outputs": []
    },
    {
      "cell_type": "code",
      "metadata": {
        "id": "ithwwPLKG3pD",
        "colab_type": "code",
        "colab": {}
      },
      "source": [
        "pip install SimpleITK"
      ],
      "execution_count": 0,
      "outputs": []
    },
    {
      "cell_type": "code",
      "metadata": {
        "id": "rCPZlc-7JvuP",
        "colab_type": "code",
        "colab": {}
      },
      "source": [
        "!git clone https://github.com/anhle/DS_in_Stratified_Healthcare.git\n",
        "!unzip DS_in_Stratified_Healthcare/data/MyHead.zip -d MyHead"
      ],
      "execution_count": 0,
      "outputs": []
    },
    {
      "cell_type": "code",
      "metadata": {
        "id": "dAa2m2JaFqAz",
        "colab_type": "code",
        "colab": {}
      },
      "source": [
        "import pydicom\n",
        "import SimpleITK\n",
        "import os\n",
        "import numpy\n",
        "import matplotlib.pyplot as plt\n",
        "%pylab inline"
      ],
      "execution_count": 0,
      "outputs": []
    },
    {
      "cell_type": "markdown",
      "metadata": {
        "id": "_--taPZkFqA3",
        "colab_type": "text"
      },
      "source": [
        "# Part 2: Loading the data"
      ]
    },
    {
      "cell_type": "markdown",
      "metadata": {
        "id": "ugymun0kFqA3",
        "colab_type": "text"
      },
      "source": [
        "In this programming task we're going to be working with a dataset from an MR examination of a patient's head. The images are captured as DICOM files and they are stored in a folder called 'MyHead'.  "
      ]
    },
    {
      "cell_type": "markdown",
      "metadata": {
        "id": "4Z9a-a9GFqA4",
        "colab_type": "text"
      },
      "source": [
        "Run the code in the following cell to create a list called 'lstFilesDCM', which contains all DICOM files within 'MyHead'. <br>\n",
        "\n",
        "Remember that you are not expected to understand all the code in this programming task. (If, however, you are really curious, this is what this code does: It first creates a list called 'lstFilesDCM' that is initially empty. It then uses the *os.walk()* function from the OS module to traverse the MyHead folder. For each file found in this folder, we check whether it is a DICOM file, and if it is, we add its extended name (i.e. the folder and file name) to the lstFilesDCM list.)"
      ]
    },
    {
      "cell_type": "code",
      "metadata": {
        "id": "TvqoyiEyFqA4",
        "colab_type": "code",
        "colab": {}
      },
      "source": [
        "PathDicom = \"./MyHead/\"\n",
        "lstFilesDCM = []  # create an empty list\n",
        "for dirName, subdirList, fileList in os.walk(PathDicom):\n",
        "    for filename in fileList:\n",
        "        if \".dcm\" in filename.lower():  # check whether the file is DICOM\n",
        "            lstFilesDCM.append(os.path.join(dirName,filename))"
      ],
      "execution_count": 0,
      "outputs": []
    },
    {
      "cell_type": "markdown",
      "metadata": {
        "id": "tAaJDwrpFqA7",
        "colab_type": "text"
      },
      "source": [
        "Run the code in the following cell to get the first five elements of the 'lstFilesDCM' list, i.e. the extended names of the first five DICOM files."
      ]
    },
    {
      "cell_type": "code",
      "metadata": {
        "id": "36nSzyWrFqA8",
        "colab_type": "code",
        "colab": {}
      },
      "source": [
        "lstFilesDCM[:5]"
      ],
      "execution_count": 0,
      "outputs": []
    },
    {
      "cell_type": "markdown",
      "metadata": {
        "id": "Vm3B7dBAFqA_",
        "colab_type": "text"
      },
      "source": [
        "### Reading a DICOM file"
      ]
    },
    {
      "cell_type": "markdown",
      "metadata": {
        "id": "Smj3MmIdFqA_",
        "colab_type": "text"
      },
      "source": [
        "Run the code in the following cell to use Pydicom's *read_file()* function to read the first DICOM file within lstFilesDCM (identified as 'lstFilesDCM[0]'). The resulting object is called 'HeadDs'. Note that we could have called it anything we wanted."
      ]
    },
    {
      "cell_type": "code",
      "metadata": {
        "id": "exctqF3xFqBA",
        "colab_type": "code",
        "colab": {}
      },
      "source": [
        "HeadDs = pydicom.read_file(lstFilesDCM[0])"
      ],
      "execution_count": 0,
      "outputs": []
    },
    {
      "cell_type": "markdown",
      "metadata": {
        "id": "muGsTo_BFqBC",
        "colab_type": "text"
      },
      "source": [
        "### Getting metadata"
      ]
    },
    {
      "cell_type": "markdown",
      "metadata": {
        "id": "ifreiJEsFqBD",
        "colab_type": "text"
      },
      "source": [
        "We can now get metadata of interest for this image with the use of appropriate Pydicom functions (e.g. *PatientPosition* or *Modality*).\n",
        "\n",
        "Run the code in the following cell to get the position of the patient relative to the imaging equipment space."
      ]
    },
    {
      "cell_type": "code",
      "metadata": {
        "id": "E1uAP96FFqBD",
        "colab_type": "code",
        "colab": {}
      },
      "source": [
        "HeadDs.PatientPosition"
      ],
      "execution_count": 0,
      "outputs": []
    },
    {
      "cell_type": "markdown",
      "metadata": {
        "id": "CjTdoHLvFqBH",
        "colab_type": "text"
      },
      "source": [
        "*HFS* stands for Head First-Supine. This means that the patient’s head was positioned toward the front of the imaging equipment and it was in an upward direction. "
      ]
    },
    {
      "cell_type": "markdown",
      "metadata": {
        "id": "7NL11PaPFqBI",
        "colab_type": "text"
      },
      "source": [
        "Run the code in the following cell to get the date the study started. Note that the date format is YYYYMMDD."
      ]
    },
    {
      "cell_type": "code",
      "metadata": {
        "id": "jEC-te2cFqBI",
        "colab_type": "code",
        "colab": {}
      },
      "source": [
        "HeadDs.StudyDate"
      ],
      "execution_count": 0,
      "outputs": []
    },
    {
      "cell_type": "markdown",
      "metadata": {
        "id": "KhJ8OcP8FqBL",
        "colab_type": "text"
      },
      "source": [
        "Run the code in the following cell to get the image modality. Note that 'MR' stands for Magnetic Resonance, 'CT' stands for Computed Tomography and 'PT' stands for Positron Emission Tomography (PET)."
      ]
    },
    {
      "cell_type": "code",
      "metadata": {
        "id": "H4Ch9x4dFqBM",
        "colab_type": "code",
        "colab": {}
      },
      "source": [
        "HeadDs.Modality"
      ],
      "execution_count": 0,
      "outputs": []
    },
    {
      "cell_type": "markdown",
      "metadata": {
        "id": "65uAdL4bFqBP",
        "colab_type": "text"
      },
      "source": [
        "# Part 3: Visualisation"
      ]
    },
    {
      "cell_type": "markdown",
      "metadata": {
        "id": "xwWwiiA9FqBP",
        "colab_type": "text"
      },
      "source": [
        "Now that we've got an idea of the imaging data that we're going to be working with, we'll visualise the data by creating a two-dimensional plot. But first we'll need to extract some additional information needed for plotting.\n"
      ]
    },
    {
      "cell_type": "markdown",
      "metadata": {
        "id": "osOBjj20FqBQ",
        "colab_type": "text"
      },
      "source": [
        "### Preparing for visualisation"
      ]
    },
    {
      "cell_type": "markdown",
      "metadata": {
        "id": "2BvvhHhcFqBQ",
        "colab_type": "text"
      },
      "source": [
        "In order to plot the data with Matplotlib, we first need to\n",
        " \n",
        " i) combine the pixel data from all DICOM files (i.e. from all slices) into a 3D dataset, and \n",
        " \n",
        " ii) specify appropriate coordinate axes."
      ]
    },
    {
      "cell_type": "markdown",
      "metadata": {
        "id": "dj6EtQ5YFqBR",
        "colab_type": "text"
      },
      "source": [
        "We'll start by calculating the total dimensions of the combined 3D dataset. These should be: (Number of pixel rows in a slice) x (Number of pixel columns in a slice) x (Number of slices) along the x, y, and z cartesian axes. We'll call the calculated dimensions 'CalcPixelDims'."
      ]
    },
    {
      "cell_type": "code",
      "metadata": {
        "id": "GqsHwBTHFqBS",
        "colab_type": "code",
        "colab": {}
      },
      "source": [
        "CalcPixelDims = (int(HeadDs.Rows), int(HeadDs.Columns), len(lstFilesDCM))\n",
        "CalcPixelDims"
      ],
      "execution_count": 0,
      "outputs": []
    },
    {
      "cell_type": "markdown",
      "metadata": {
        "id": "DNqsRHqpFqBW",
        "colab_type": "text"
      },
      "source": [
        "Now that we've calculated the dimensions, we can create a 3D NumPy array to address the first point discussed above. Note that a NumPy array is understood as a grid of values, all of the same type. \n",
        "\n",
        "The following code creates a NumPy array called 'HeadImgArray' that has the same size as CalcPixelDims, and which contains the pixel data from all DICOM files in lstFilesDCM. "
      ]
    },
    {
      "cell_type": "code",
      "metadata": {
        "id": "MGJhNlKaFqBX",
        "colab_type": "code",
        "colab": {}
      },
      "source": [
        "HeadImgArray = numpy.zeros(CalcPixelDims, dtype=HeadDs.pixel_array.dtype)\n",
        "\n",
        "for filenameDCM in lstFilesDCM:\n",
        "    ds = pydicom.read_file(filenameDCM)\n",
        "    HeadImgArray[:, :, lstFilesDCM.index(filenameDCM)] = ds.pixel_array"
      ],
      "execution_count": 0,
      "outputs": []
    },
    {
      "cell_type": "markdown",
      "metadata": {
        "id": "b96RjnlFFqBZ",
        "colab_type": "text"
      },
      "source": [
        "Now that we've addressed the first point, we move on to specify appropriate coordinate axes.\n",
        "\n",
        "We use Pydicom's *PixelSpacing* and *SliceThickness* functions to calculate the spacing between pixels in the three axes. We call the resulting object 'CalcPixelSpacing'."
      ]
    },
    {
      "cell_type": "code",
      "metadata": {
        "id": "zSeawYoMFqBa",
        "colab_type": "code",
        "colab": {}
      },
      "source": [
        "CalcPixelSpacing = (float(HeadDs.PixelSpacing[0]), float(HeadDs.PixelSpacing[1]), float(HeadDs.SliceThickness))"
      ],
      "execution_count": 0,
      "outputs": []
    },
    {
      "cell_type": "markdown",
      "metadata": {
        "id": "tv3FD9pIFqBc",
        "colab_type": "text"
      },
      "source": [
        "Then, we use CalcPixelDims and CalcPixelSpacing to calculate coordinate axes. You don't need to understand what this code does. Just run it to compute x, y and z."
      ]
    },
    {
      "cell_type": "code",
      "metadata": {
        "id": "2yT1nm6vFqBc",
        "colab_type": "code",
        "colab": {}
      },
      "source": [
        "x = numpy.arange(0.0, (CalcPixelDims[0]+1)*CalcPixelSpacing[0], CalcPixelSpacing[0])\n",
        "y = numpy.arange(0.0, (CalcPixelDims[1]+1)*CalcPixelSpacing[1], CalcPixelSpacing[1])\n",
        "z = numpy.arange(0.0, (CalcPixelDims[2]+1)*CalcPixelSpacing[2], CalcPixelSpacing[2])"
      ],
      "execution_count": 0,
      "outputs": []
    },
    {
      "cell_type": "markdown",
      "metadata": {
        "id": "zpZrHMJ5FqBf",
        "colab_type": "text"
      },
      "source": [
        "### Visualising"
      ]
    },
    {
      "cell_type": "markdown",
      "metadata": {
        "id": "iZ7_2Cw7FqBg",
        "colab_type": "text"
      },
      "source": [
        "We can now plot the data with the use of the pyplot module in matplotlib.\n",
        "\n",
        "Again, you don't need to understand in detail what this code does. You can simply run it to get a plot of the head MR image. Note that you can modify the number in the last line of the code to get a different slice of the head."
      ]
    },
    {
      "cell_type": "code",
      "metadata": {
        "id": "-Do9kCTyFqBg",
        "colab_type": "code",
        "colab": {}
      },
      "source": [
        "plt.figure(dpi=300)\n",
        "plt.axes().set_aspect('equal', 'datalim')\n",
        "plt.set_cmap(plt.gray())\n",
        "plt.pcolormesh(x, y, numpy.flipud(HeadImgArray[:, :, 125]))"
      ],
      "execution_count": 0,
      "outputs": []
    },
    {
      "cell_type": "markdown",
      "metadata": {
        "id": "ujvOC3wXFqBi",
        "colab_type": "text"
      },
      "source": [
        "# Part 4: Segmentation"
      ]
    },
    {
      "cell_type": "markdown",
      "metadata": {
        "id": "cRy66MfsFqBj",
        "colab_type": "text"
      },
      "source": [
        "In this part of the notebook we'll use SimpleITK to segment the white and grey matter in the MR images."
      ]
    },
    {
      "cell_type": "markdown",
      "metadata": {
        "id": "ViOG_fOPFqBj",
        "colab_type": "text"
      },
      "source": [
        "### Specifying a helper function"
      ]
    },
    {
      "cell_type": "markdown",
      "metadata": {
        "id": "EWL3C_vnFqBk",
        "colab_type": "text"
      },
      "source": [
        "We'll be visualising quite a few 2D SimpleITK images in this part, so here we'll define a function that quickly plots a 2D SimpleITK image with a greyscale colourmap and accompanying axes.  \n",
        "\n",
        "There's no need to understand what this code does - you can simply run it so that you can use the *sitk_show* function later on."
      ]
    },
    {
      "cell_type": "code",
      "metadata": {
        "id": "8naOfD22FqBk",
        "colab_type": "code",
        "colab": {}
      },
      "source": [
        "def sitk_show(img, title=None, margin=0.05, dpi=40 ):\n",
        "    nda = SimpleITK.GetArrayFromImage(img)\n",
        "    spacing = img.GetSpacing()\n",
        "    figsize = (1 + margin) * nda.shape[0] / dpi, (1 + margin) * nda.shape[1] / dpi\n",
        "    extent = (0, nda.shape[1]*spacing[1], nda.shape[0]*spacing[0], 0)\n",
        "    fig = plt.figure(figsize=figsize, dpi=dpi)\n",
        "    ax = fig.add_axes([margin, margin, 1 - 2*margin, 1 - 2*margin])\n",
        "\n",
        "    plt.set_cmap(\"gray\")\n",
        "    ax.imshow(nda,extent=extent,interpolation=None)\n",
        "    \n",
        "    if title:\n",
        "        plt.title(title)\n",
        "    \n",
        "    plt.show()"
      ],
      "execution_count": 0,
      "outputs": []
    },
    {
      "cell_type": "markdown",
      "metadata": {
        "id": "uOVLVy_CFqBm",
        "colab_type": "text"
      },
      "source": [
        "### Loading the data in SimpleITK"
      ]
    },
    {
      "cell_type": "markdown",
      "metadata": {
        "id": "IKtHAVX6FqBm",
        "colab_type": "text"
      },
      "source": [
        "We now need to tell SimpleITK to read the DICOM files within the 'MyHead' folder. Run the code in the following cell to extract the contents of the MRI dataset and create the corresponding 3D image called 'img3DOriginal'. \n",
        "\n",
        "Note that you don't need to understand what this code does. You can simply run it, so as to use img3DOriginal later on.  You can also reuse this code for a new collection of MR images, given that you've called the location of your DICOM files 'PathDicom'."
      ]
    },
    {
      "cell_type": "code",
      "metadata": {
        "id": "2s1Gx8n9FqBn",
        "colab_type": "code",
        "colab": {}
      },
      "source": [
        "reader = SimpleITK.ImageSeriesReader()\n",
        "filenamesDICOM = reader.GetGDCMSeriesFileNames(PathDicom)\n",
        "reader.SetFileNames(filenamesDICOM)\n",
        "img3DOriginal = reader.Execute()"
      ],
      "execution_count": 0,
      "outputs": []
    },
    {
      "cell_type": "markdown",
      "metadata": {
        "id": "rqBTic0PFqBp",
        "colab_type": "text"
      },
      "source": [
        "In order to keep things simple, we'll segment a 2D slice of the 3D image (rather than the entire 3D image). Run the code below to specify that we want Z-slice 50 of the 3D image. We'll call this slice 'imgOriginal'.\n",
        "\n",
        "Note that you could ask for a different Z-slice, if you want."
      ]
    },
    {
      "cell_type": "code",
      "metadata": {
        "id": "nITorsJ-FqBp",
        "colab_type": "code",
        "colab": {}
      },
      "source": [
        "imgOriginal = img3DOriginal[:,:,50]"
      ],
      "execution_count": 0,
      "outputs": []
    },
    {
      "cell_type": "markdown",
      "metadata": {
        "id": "ikeHyWXTFqBr",
        "colab_type": "text"
      },
      "source": [
        "### Visualising the original data"
      ]
    },
    {
      "cell_type": "markdown",
      "metadata": {
        "id": "2oDHBie5FqBs",
        "colab_type": "text"
      },
      "source": [
        "We'll now call our *sitk_show* function to visualise the original data. "
      ]
    },
    {
      "cell_type": "code",
      "metadata": {
        "id": "dU-Ht0IOFqBs",
        "colab_type": "code",
        "colab": {}
      },
      "source": [
        "sitk_show(imgOriginal)"
      ],
      "execution_count": 0,
      "outputs": []
    },
    {
      "cell_type": "markdown",
      "metadata": {
        "id": "9vNsrHxGFqBv",
        "colab_type": "text"
      },
      "source": [
        "### Smoothing"
      ]
    },
    {
      "cell_type": "markdown",
      "metadata": {
        "id": "1VsiKAxuFqBw",
        "colab_type": "text"
      },
      "source": [
        "Smoothing is the process of reducing noise within an image or producing a less pixelated image.  The result is an image with sharp edges or boundaries preserved and smoothing occurring only within a region.\n",
        "\n",
        "In our case, we can see that the original image data exhibits quite a bit of noise, which is rather typical of MRI datasets. We will reduce the noise, so as to ease the process of segmentation later on.\n",
        "\n",
        "Run the code in the following cell to apply a Curvature Flow Image Filter to smoothen *imgOriginal*. We'll call the resulting image 'imgSmooth'."
      ]
    },
    {
      "cell_type": "code",
      "metadata": {
        "id": "m2OjOjmTFqBw",
        "colab_type": "code",
        "colab": {}
      },
      "source": [
        "imgSmooth = SimpleITK.CurvatureFlow(image1=imgOriginal,\n",
        "                                    timeStep=0.125,\n",
        "                                    numberOfIterations=5)"
      ],
      "execution_count": 0,
      "outputs": []
    },
    {
      "cell_type": "markdown",
      "metadata": {
        "id": "s-wKuu1KFqBy",
        "colab_type": "text"
      },
      "source": [
        "Now, lets see the results of the smoothened image."
      ]
    },
    {
      "cell_type": "code",
      "metadata": {
        "id": "1dXfLv7aFqBz",
        "colab_type": "code",
        "colab": {}
      },
      "source": [
        "sitk_show(imgSmooth)"
      ],
      "execution_count": 0,
      "outputs": []
    },
    {
      "cell_type": "markdown",
      "metadata": {
        "id": "2KZHWK4tFqB1",
        "colab_type": "text"
      },
      "source": [
        "### Segmentation with the ConnectedThreshold filter"
      ]
    },
    {
      "cell_type": "markdown",
      "metadata": {
        "id": "08XijiY8FqB1",
        "colab_type": "text"
      },
      "source": [
        "We will now apply region growing techniques to segment the white and grey matter of the smoothened image."
      ]
    },
    {
      "cell_type": "markdown",
      "metadata": {
        "id": "y9wWayx6FqB1",
        "colab_type": "text"
      },
      "source": [
        "#### Initial segmentation of the white matter"
      ]
    },
    {
      "cell_type": "markdown",
      "metadata": {
        "id": "Aro44dMZFqB2",
        "colab_type": "text"
      },
      "source": [
        "Run the code in the following cell to apply SimpleITK's *ConnectedThreshold* filter function to imgSmooth. The image of the resulting segmented white matter is called 'imgWhiteMatter'.\n",
        "\n",
        "As with other parts of this programming task, you don't need to fully understand what this code does. You can simply run it to get the initial segmentation of the white matter. \n",
        "\n",
        "If, however, you're really curious, here's a brief explanation: This filter starts from a seed point in the image that we know is white matter, and looks at all connected pixels. If their values lie within a range of interest, then they are labelled as white matter. In our case, we've set the seed to be point (150, 75), as by inspecting the previous image, it looked like that point was indeed white matter. We've also set the range of values to be between 130 and 190, as these were roughly the values that the white matter pixels exhibited (this was inspected with the use of a separate DICOM viewing software)."
      ]
    },
    {
      "cell_type": "code",
      "metadata": {
        "id": "BAApDEMIFqB2",
        "colab_type": "code",
        "colab": {}
      },
      "source": [
        "lstSeeds = [(150,75)]\n",
        "\n",
        "imgWhiteMatter = SimpleITK.ConnectedThreshold(image1=imgSmooth, \n",
        "                                              seedList=lstSeeds, \n",
        "                                              lower=130, \n",
        "                                              upper=190,\n",
        "                                              replaceValue=1)"
      ],
      "execution_count": 0,
      "outputs": []
    },
    {
      "cell_type": "markdown",
      "metadata": {
        "id": "CHCoSnbVFqB4",
        "colab_type": "text"
      },
      "source": [
        "Next, we want to view the result of the segmentation. If we tried to visualise imgWhiteMatter, then all we would see would be a white-colour label in a black backdrop, which doesn’t give us much insight.  However, if we use a label overlay, then we can see the result of the segmentation of white matter in a basic RGB (red, green, blue) colour. In our case, it will show as green. \n",
        "\n",
        "Note that before overlaying imgSmooth and imgWhiteMatter, we first need to manipulate imgSmooth so we can successfully mix the two images. This is what the following code does. The resulting image is called 'imgSmoothInt'."
      ]
    },
    {
      "cell_type": "code",
      "metadata": {
        "id": "ZNUE8m7_FqB4",
        "colab_type": "code",
        "colab": {}
      },
      "source": [
        "imgSmoothInt = SimpleITK.Cast(SimpleITK.RescaleIntensity(imgSmooth), imgWhiteMatter.GetPixelID())"
      ],
      "execution_count": 0,
      "outputs": []
    },
    {
      "cell_type": "markdown",
      "metadata": {
        "id": "uhnqxS5YFqB7",
        "colab_type": "text"
      },
      "source": [
        "Now let's use SimpleITK's *LabelOverlay* function to overlay 'imgSmoothInt' and 'imgWhiteMatter', and let's visualise the result."
      ]
    },
    {
      "cell_type": "code",
      "metadata": {
        "id": "ZWxGAzjqFqB7",
        "colab_type": "code",
        "colab": {}
      },
      "source": [
        "sitk_show(SimpleITK.LabelOverlay(imgSmoothInt, imgWhiteMatter))"
      ],
      "execution_count": 0,
      "outputs": []
    },
    {
      "cell_type": "markdown",
      "metadata": {
        "id": "X-ZsgqiVFqB9",
        "colab_type": "text"
      },
      "source": [
        "#### Hole-filling of the segmented white matter"
      ]
    },
    {
      "cell_type": "markdown",
      "metadata": {
        "id": "aY8f7I1_FqB-",
        "colab_type": "text"
      },
      "source": [
        "As you can see in the figure above, there are several holes in the segmented white matter. We'll rectify this by applying hole-filling.  \n",
        "\n",
        "Run the code in the following cell to use SimpleITK's *VotingBinaryHoleFilling* filter to fill in holes in *imgWhiteMatter*.  The resulting image is called 'imgWhiteMatterNoHoles'."
      ]
    },
    {
      "cell_type": "code",
      "metadata": {
        "id": "dj1ApY15FqB-",
        "colab_type": "code",
        "colab": {}
      },
      "source": [
        "imgWhiteMatterNoHoles = SimpleITK.VotingBinaryHoleFilling(image1=imgWhiteMatter,\n",
        "                                                          radius=[2]*3,\n",
        "                                                          majorityThreshold=1,\n",
        "                                                          backgroundValue=0,\n",
        "                                                          foregroundValue=1)"
      ],
      "execution_count": 0,
      "outputs": []
    },
    {
      "cell_type": "markdown",
      "metadata": {
        "id": "i519MMFqFqCA",
        "colab_type": "text"
      },
      "source": [
        "Now let's use SimpleITK's *LabelOverlay* function to overlay 'imgSmoothInt' and the newly obtained 'imgWhiteMatterNoHoles', and let's visualise the result."
      ]
    },
    {
      "cell_type": "code",
      "metadata": {
        "id": "oNNzGZHFFqCA",
        "colab_type": "code",
        "colab": {}
      },
      "source": [
        "sitk_show(SimpleITK.LabelOverlay(imgSmoothInt, imgWhiteMatterNoHoles))"
      ],
      "execution_count": 0,
      "outputs": []
    },
    {
      "cell_type": "markdown",
      "metadata": {
        "id": "VPPIvVMgFqCC",
        "colab_type": "text"
      },
      "source": [
        "#### Segmentation and hole-filling of grey matter"
      ]
    },
    {
      "cell_type": "markdown",
      "metadata": {
        "id": "hSWAhCMrFqCD",
        "colab_type": "text"
      },
      "source": [
        "We'll now repeat the process for grey matter. In other words, we'll do some preliminary segmentation and then we'll perform hole-filling of the segmented grey matter. We'll then overlay the 'imgSmoothInt' and the 'imgGreyMatterNoHoles' images and we'll visualise the result."
      ]
    },
    {
      "cell_type": "code",
      "metadata": {
        "collapsed": true,
        "id": "otU8WLRsFqCE",
        "colab_type": "code",
        "colab": {}
      },
      "source": [
        "lstSeeds = [(119, 83), (198, 80), (185, 102), (164, 43)]\n",
        "\n",
        "imgGreyMatter = SimpleITK.ConnectedThreshold(image1=imgSmooth, \n",
        "                                             seedList=lstSeeds, \n",
        "                                             lower=150, \n",
        "                                             upper=270,\n",
        "                                             replaceValue=2)\n",
        "\n",
        "imgGreyMatterNoHoles = SimpleITK.VotingBinaryHoleFilling(image1=imgGreyMatter,\n",
        "                                                         radius=[2]*3,\n",
        "                                                         majorityThreshold=1,\n",
        "                                                         backgroundValue=0,\n",
        "                                                         foregroundValue=2) # labelGrayMatter\n",
        "\n",
        "sitk_show(SimpleITK.LabelOverlay(imgSmoothInt, imgGreyMatterNoHoles))"
      ],
      "execution_count": 0,
      "outputs": []
    },
    {
      "cell_type": "markdown",
      "metadata": {
        "id": "t7IF4zcyFqCG",
        "colab_type": "text"
      },
      "source": [
        "#### Combining the white and grey matter"
      ]
    },
    {
      "cell_type": "markdown",
      "metadata": {
        "id": "_Jr4ZigyFqCH",
        "colab_type": "text"
      },
      "source": [
        "Lastly, we want to combine the two label-fields, in other words, the white and grey matter.  We do this by running the code below, with the results being stored under 'imgLabels'.   "
      ]
    },
    {
      "cell_type": "code",
      "metadata": {
        "collapsed": true,
        "scrolled": true,
        "id": "-99DNbSOFqCH",
        "colab_type": "code",
        "colab": {}
      },
      "source": [
        "imgLabels = imgWhiteMatterNoHoles | imgGreyMatterNoHoles"
      ],
      "execution_count": 0,
      "outputs": []
    },
    {
      "cell_type": "markdown",
      "metadata": {
        "id": "eDi1JzNRFqCJ",
        "colab_type": "text"
      },
      "source": [
        "Now let's use SimpleITK's *LabelOverlay* function to overlay 'imgSmoothInt' and the newly obtained 'imgLabels', and let's visualise the result."
      ]
    },
    {
      "cell_type": "code",
      "metadata": {
        "collapsed": true,
        "id": "X3viarRhFqCK",
        "colab_type": "code",
        "colab": {}
      },
      "source": [
        "sitk_show(SimpleITK.LabelOverlay(imgSmoothInt, imgLabels))"
      ],
      "execution_count": 0,
      "outputs": []
    },
    {
      "cell_type": "markdown",
      "metadata": {
        "id": "GPva-4kUFqCL",
        "colab_type": "text"
      },
      "source": [
        "Note that the cyan-coloured label are regions where both the white matter and grey matter overlap from the initial segmentation process above.  \n",
        "\n",
        "The majority of those regions should actually be part of the grey matter. Run the code in the following cell to fix this, with the results being stored under 'imgLabels2'. Note that you don't need to understand in detail what the code does. All you need to know is that it assigns any overlapping regions to the grey matter."
      ]
    },
    {
      "cell_type": "code",
      "metadata": {
        "collapsed": true,
        "id": "JB_-0hhrFqCM",
        "colab_type": "code",
        "colab": {}
      },
      "source": [
        "imgMask = (imgWhiteMatterNoHoles/1) * (imgGreyMatterNoHoles/2)\n",
        "imgMask2 = SimpleITK.Cast(imgMask, imgWhiteMatterNoHoles.GetPixelIDValue())\n",
        "imgWhiteMatterNoHoles = imgWhiteMatterNoHoles - (imgMask2*1)\n",
        "imgLabels2 = imgWhiteMatterNoHoles + imgGreyMatterNoHoles"
      ],
      "execution_count": 0,
      "outputs": []
    },
    {
      "cell_type": "markdown",
      "metadata": {
        "id": "6f0NtV3NFqCO",
        "colab_type": "text"
      },
      "source": [
        "Now let's use SimpleITK's *LabelOverlay* function to overlay 'imgSmoothInt' and the newly obtained 'imgLabels2', and let's visualise the result."
      ]
    },
    {
      "cell_type": "code",
      "metadata": {
        "collapsed": true,
        "id": "b80qVuxKFqCO",
        "colab_type": "code",
        "colab": {}
      },
      "source": [
        "sitk_show(SimpleITK.LabelOverlay(imgSmoothInt, imgLabels2))"
      ],
      "execution_count": 0,
      "outputs": []
    },
    {
      "cell_type": "markdown",
      "metadata": {
        "id": "F5kqCMCiFqCR",
        "colab_type": "text"
      },
      "source": [
        "And that's it! You've now had a taste of medical image processing!\n",
        "\n",
        "You're welcome to play around with this code. If you have any questions or comments, please post them in the forums."
      ]
    },
    {
      "cell_type": "code",
      "metadata": {
        "collapsed": true,
        "id": "jouQjFXpFqCR",
        "colab_type": "code",
        "colab": {}
      },
      "source": [
        ""
      ],
      "execution_count": 0,
      "outputs": []
    }
  ]
}